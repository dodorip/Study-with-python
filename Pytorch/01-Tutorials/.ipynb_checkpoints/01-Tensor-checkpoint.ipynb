{
 "cells": [
  {
   "cell_type": "markdown",
   "id": "0131539b",
   "metadata": {},
   "source": [
    "# PyTorch Tensor"
   ]
  },
  {
   "cell_type": "code",
   "execution_count": 2,
   "id": "a78ff8ca",
   "metadata": {},
   "outputs": [],
   "source": [
    "import torch"
   ]
  },
  {
   "cell_type": "markdown",
   "id": "861461cb",
   "metadata": {},
   "source": [
    "# Tensor Allocation"
   ]
  },
  {
   "cell_type": "code",
   "execution_count": 5,
   "id": "0b09849b",
   "metadata": {},
   "outputs": [
    {
     "data": {
      "text/plain": [
       "tensor([[1., 2.],\n",
       "        [3., 4.]])"
      ]
     },
     "execution_count": 5,
     "metadata": {},
     "output_type": "execute_result"
    }
   ],
   "source": [
    "#Float Tensor\n",
    "ft = torch.FloatTensor([[1,2],\n",
    "                      [3,4]])\n",
    "ft"
   ]
  },
  {
   "cell_type": "code",
   "execution_count": 7,
   "id": "ee3c815b",
   "metadata": {},
   "outputs": [
    {
     "data": {
      "text/plain": [
       "tensor([[1, 2],\n",
       "        [3, 4]])"
      ]
     },
     "execution_count": 7,
     "metadata": {},
     "output_type": "execute_result"
    }
   ],
   "source": [
    "#Long Tensor\n",
    "lt = torch.LongTensor([[1,2],\n",
    "                      [3,4]])\n",
    "lt\n",
    "#index같은 값을 다룰 때 많이 사용"
   ]
  },
  {
   "cell_type": "code",
   "execution_count": 9,
   "id": "0ac43d2c",
   "metadata": {},
   "outputs": [
    {
     "data": {
      "text/plain": [
       "tensor([[1, 0],\n",
       "        [0, 1]], dtype=torch.uint8)"
      ]
     },
     "execution_count": 9,
     "metadata": {},
     "output_type": "execute_result"
    }
   ],
   "source": [
    "#Byte Tensor/Boolean Tensor도 존재\n",
    "bt = torch.ByteTensor([[1,0],\n",
    "                      [0,1]])\n",
    "bt"
   ]
  },
  {
   "cell_type": "markdown",
   "id": "7867f866",
   "metadata": {},
   "source": [
    "# Numpy Compatibility  \n",
    "    :넘파이(배열)과 호환"
   ]
  },
  {
   "cell_type": "code",
   "execution_count": 15,
   "id": "e4ab6bcd",
   "metadata": {},
   "outputs": [
    {
     "name": "stdout",
     "output_type": "stream",
     "text": [
      "[[1 2]\n",
      " [3 4]] <class 'numpy.ndarray'>\n"
     ]
    }
   ],
   "source": [
    "import numpy as np\n",
    "x = np.array([[1,2],\n",
    "             [3,4]])\n",
    "print(x, type(x))\n",
    "#numpy.array 타입"
   ]
  },
  {
   "cell_type": "code",
   "execution_count": 16,
   "id": "f235a945",
   "metadata": {},
   "outputs": [
    {
     "name": "stdout",
     "output_type": "stream",
     "text": [
      "tensor([[1, 2],\n",
      "        [3, 4]]) <class 'torch.Tensor'>\n"
     ]
    }
   ],
   "source": [
    "#array to tensor\n",
    "x = torch.from_numpy(x)\n",
    "print(x, type(x))\n",
    "#torch.tensor으로 변환"
   ]
  },
  {
   "cell_type": "code",
   "execution_count": 17,
   "id": "4e802979",
   "metadata": {},
   "outputs": [
    {
     "name": "stdout",
     "output_type": "stream",
     "text": [
      "[[1 2]\n",
      " [3 4]] <class 'numpy.ndarray'>\n"
     ]
    }
   ],
   "source": [
    "#tensor to array\n",
    "x = x.numpy()\n",
    "print(x, type(x))"
   ]
  },
  {
   "cell_type": "markdown",
   "id": "d028943a",
   "metadata": {},
   "source": [
    "# Tensor type-casting  \n",
    "    :같은 타입의 Tensor만 연산가능"
   ]
  },
  {
   "cell_type": "code",
   "execution_count": 18,
   "id": "ea2cc559",
   "metadata": {},
   "outputs": [
    {
     "data": {
      "text/plain": [
       "tensor([[1, 2],\n",
       "        [3, 4]])"
      ]
     },
     "execution_count": 18,
     "metadata": {},
     "output_type": "execute_result"
    }
   ],
   "source": [
    "ft.long()"
   ]
  },
  {
   "cell_type": "code",
   "execution_count": 19,
   "id": "e66e7ff6",
   "metadata": {},
   "outputs": [
    {
     "data": {
      "text/plain": [
       "tensor([[1., 2.],\n",
       "        [3., 4.]])"
      ]
     },
     "execution_count": 19,
     "metadata": {},
     "output_type": "execute_result"
    }
   ],
   "source": [
    "ft.float()"
   ]
  },
  {
   "cell_type": "code",
   "execution_count": 20,
   "id": "7672c195",
   "metadata": {},
   "outputs": [
    {
     "data": {
      "text/plain": [
       "tensor([1, 0], dtype=torch.uint8)"
      ]
     },
     "execution_count": 20,
     "metadata": {},
     "output_type": "execute_result"
    }
   ],
   "source": [
    "torch.FloatTensor([1,0]).byte()"
   ]
  },
  {
   "cell_type": "markdown",
   "id": "e837da9f",
   "metadata": {},
   "source": [
    "# Get Shape"
   ]
  },
  {
   "cell_type": "code",
   "execution_count": 24,
   "id": "986de385",
   "metadata": {},
   "outputs": [
    {
     "name": "stdout",
     "output_type": "stream",
     "text": [
      "torch.Size([3, 2, 2])\n",
      "torch.Size([3, 2, 2])\n"
     ]
    }
   ],
   "source": [
    "x = torch.FloatTensor([[[1,2],\n",
    "                      [3,4]],\n",
    "                     [[5,6],\n",
    "                     [7,8]],\n",
    "                      [[9,10],\n",
    "                      [10,11]]])\n",
    "print(x.size())\n",
    "print(x.shape)"
   ]
  },
  {
   "cell_type": "markdown",
   "id": "fc53378a",
   "metadata": {},
   "source": [
    "Get number of dimensios in the tensor."
   ]
  },
  {
   "cell_type": "code",
   "execution_count": 25,
   "id": "dc4d8bed",
   "metadata": {},
   "outputs": [
    {
     "name": "stdout",
     "output_type": "stream",
     "text": [
      "3\n",
      "3\n"
     ]
    }
   ],
   "source": [
    "print(x.dim())\n",
    "print(len(x.size()))"
   ]
  },
  {
   "cell_type": "markdown",
   "id": "ac7a1e00",
   "metadata": {},
   "source": [
    "Get number of elements in certain dimension of the tensor."
   ]
  },
  {
   "cell_type": "code",
   "execution_count": 26,
   "id": "d94f1df1",
   "metadata": {},
   "outputs": [
    {
     "name": "stdout",
     "output_type": "stream",
     "text": [
      "2\n",
      "2\n"
     ]
    }
   ],
   "source": [
    "print(x.size(1))\n",
    "print(x.shape[1])"
   ]
  },
  {
   "cell_type": "markdown",
   "id": "c8254c47",
   "metadata": {},
   "source": [
    "Get number of elements in the last dimension."
   ]
  },
  {
   "cell_type": "code",
   "execution_count": 28,
   "id": "47aca7a4",
   "metadata": {},
   "outputs": [
    {
     "name": "stdout",
     "output_type": "stream",
     "text": [
      "2\n",
      "2\n"
     ]
    }
   ],
   "source": [
    "print(x.size(-1))\n",
    "print(x.shape[-1])"
   ]
  }
 ],
 "metadata": {
  "kernelspec": {
   "display_name": "Python 3",
   "language": "python",
   "name": "python3"
  },
  "language_info": {
   "codemirror_mode": {
    "name": "ipython",
    "version": 3
   },
   "file_extension": ".py",
   "mimetype": "text/x-python",
   "name": "python",
   "nbconvert_exporter": "python",
   "pygments_lexer": "ipython3",
   "version": "3.8.8"
  }
 },
 "nbformat": 4,
 "nbformat_minor": 5
}
