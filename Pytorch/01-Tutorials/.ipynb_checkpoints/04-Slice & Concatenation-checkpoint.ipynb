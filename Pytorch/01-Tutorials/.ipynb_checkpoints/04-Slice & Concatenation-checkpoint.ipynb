{
 "cells": [
  {
   "cell_type": "code",
   "execution_count": 1,
   "id": "71dca95a",
   "metadata": {},
   "outputs": [],
   "source": [
    "import torch"
   ]
  },
  {
   "cell_type": "markdown",
   "id": "52f7d15e",
   "metadata": {},
   "source": [
    "# Slicing and Concatenation"
   ]
  },
  {
   "cell_type": "code",
   "execution_count": 3,
   "id": "c75f2f72",
   "metadata": {},
   "outputs": [
    {
     "name": "stdout",
     "output_type": "stream",
     "text": [
      "torch.Size([3, 2, 2])\n"
     ]
    }
   ],
   "source": [
    "x = torch.FloatTensor([[[1,2],\n",
    "                       [3,4]],\n",
    "                      [[5,6],\n",
    "                      [7 ,8]],\n",
    "                      [[9,10],\n",
    "                      [11,12]]])\n",
    "print(x.size())"
   ]
  },
  {
   "cell_type": "markdown",
   "id": "1fff26b9",
   "metadata": {},
   "source": [
    "Access to certain dimension : list 및 numpy와 유사"
   ]
  },
  {
   "cell_type": "code",
   "execution_count": 5,
   "id": "22c6a704",
   "metadata": {},
   "outputs": [
    {
     "name": "stdout",
     "output_type": "stream",
     "text": [
      "tensor([[1., 2.],\n",
      "        [3., 4.]])\n",
      "tensor([[1., 2.],\n",
      "        [3., 4.]])\n",
      "tensor([[1., 2.],\n",
      "        [3., 4.]])\n"
     ]
    }
   ],
   "source": [
    "print(x[0])\n",
    "print(x[0,:])\n",
    "print(x[0,:,:])"
   ]
  },
  {
   "cell_type": "code",
   "execution_count": 7,
   "id": "4f0f3fa6",
   "metadata": {},
   "outputs": [
    {
     "name": "stdout",
     "output_type": "stream",
     "text": [
      "tensor([[ 1.,  2.],\n",
      "        [ 5.,  6.],\n",
      "        [ 9., 10.]])\n"
     ]
    }
   ],
   "source": [
    "print(x[:,0,:])\n",
    "#3 * 2"
   ]
  },
  {
   "cell_type": "markdown",
   "id": "1f2eb15e",
   "metadata": {},
   "source": [
    "Access by range. 이때, 차원이 바뀌지 않는다."
   ]
  },
  {
   "cell_type": "code",
   "execution_count": 10,
   "id": "5d40b704",
   "metadata": {},
   "outputs": [
    {
     "name": "stdout",
     "output_type": "stream",
     "text": [
      "torch.Size([2, 2, 2])\n",
      "torch.Size([3, 1, 2])\n",
      "torch.Size([3, 1, 2])\n"
     ]
    }
   ],
   "source": [
    "print(x[1:3,:,:].size())\n",
    "print(x[:,:1,:].size())\n",
    "print(x[:,:-1,:].size())"
   ]
  },
  {
   "cell_type": "markdown",
   "id": "b778f47f",
   "metadata": {},
   "source": [
    "## Split"
   ]
  },
  {
   "cell_type": "code",
   "execution_count": 11,
   "id": "9f68cb53",
   "metadata": {},
   "outputs": [],
   "source": [
    "x = torch.FloatTensor(10,4)"
   ]
  },
  {
   "cell_type": "code",
   "execution_count": 13,
   "id": "39b09820",
   "metadata": {},
   "outputs": [
    {
     "name": "stdout",
     "output_type": "stream",
     "text": [
      "torch.Size([4, 4])\n",
      "torch.Size([4, 4])\n",
      "torch.Size([2, 4])\n"
     ]
    }
   ],
   "source": [
    "splits = x.split(4, dim = 0)\n",
    "\n",
    "for a in splits:\n",
    "    print(a.size())"
   ]
  },
  {
   "cell_type": "markdown",
   "id": "3cc56f77",
   "metadata": {},
   "source": [
    "## chunk : Split tensor to number of chunk"
   ]
  },
  {
   "cell_type": "code",
   "execution_count": 14,
   "id": "9959decc",
   "metadata": {},
   "outputs": [],
   "source": [
    "x = torch.FloatTensor(8,4)"
   ]
  },
  {
   "cell_type": "code",
   "execution_count": 20,
   "id": "9fb69bec",
   "metadata": {},
   "outputs": [
    {
     "name": "stdout",
     "output_type": "stream",
     "text": [
      "torch.Size([3, 4])\n",
      "torch.Size([3, 4])\n",
      "torch.Size([2, 4])\n"
     ]
    }
   ],
   "source": [
    "chunks = x.chunk(3, dim= 0)\n",
    "\n",
    "for b in chunks:\n",
    "    print(b.size())"
   ]
  },
  {
   "cell_type": "markdown",
   "id": "7a3aa0c4",
   "metadata": {},
   "source": [
    "## index_select : Select elements by using dimension index."
   ]
  },
  {
   "cell_type": "code",
   "execution_count": 22,
   "id": "3cc3deff",
   "metadata": {},
   "outputs": [
    {
     "name": "stdout",
     "output_type": "stream",
     "text": [
      "torch.Size([3, 2, 2])\n"
     ]
    }
   ],
   "source": [
    "x = torch.FloatTensor([[[1,1],\n",
    "                       [2,2]],\n",
    "                      [[3,3],\n",
    "                      [4,4]],\n",
    "                      [[5,5],\n",
    "                      [6,6]]])\n",
    "indice = torch.LongTensor([2,1])\n",
    "print(x.size())"
   ]
  },
  {
   "cell_type": "code",
   "execution_count": 24,
   "id": "4814582c",
   "metadata": {},
   "outputs": [
    {
     "name": "stdout",
     "output_type": "stream",
     "text": [
      "tensor([[[5., 5.],\n",
      "         [6., 6.]],\n",
      "\n",
      "        [[3., 3.],\n",
      "         [4., 4.]]])\n",
      "torch.Size([2, 2, 2])\n"
     ]
    }
   ],
   "source": [
    "y = x.index_select(dim = 0, index = indice)\n",
    "print(y)\n",
    "print(y.size())"
   ]
  },
  {
   "cell_type": "markdown",
   "id": "f53f8696",
   "metadata": {},
   "source": [
    "## cat : Concatenation of multiple tensors in the list"
   ]
  },
  {
   "cell_type": "code",
   "execution_count": 30,
   "id": "f330287f",
   "metadata": {},
   "outputs": [
    {
     "name": "stdout",
     "output_type": "stream",
     "text": [
      "torch.Size([3, 3]) torch.Size([3, 3])\n"
     ]
    }
   ],
   "source": [
    "x = torch.FloatTensor([[1,2,3],\n",
    "                      [4,5,6],\n",
    "                     [7,8,9]])\n",
    "y = torch.FloatTensor([[10,11,12],\n",
    "                      [13,14,15],\n",
    "                     [16,17,28]])\n",
    "print(x.size(),y.size())"
   ]
  },
  {
   "cell_type": "code",
   "execution_count": 31,
   "id": "d97495d8",
   "metadata": {},
   "outputs": [
    {
     "name": "stdout",
     "output_type": "stream",
     "text": [
      "tensor([[ 1.,  2.,  3.],\n",
      "        [ 4.,  5.,  6.],\n",
      "        [ 7.,  8.,  9.],\n",
      "        [10., 11., 12.],\n",
      "        [13., 14., 15.],\n",
      "        [16., 17., 28.]])\n",
      "torch.Size([6, 3])\n"
     ]
    }
   ],
   "source": [
    "z = torch.cat([x,y],dim = 0)\n",
    "print(z)\n",
    "print(z.size())"
   ]
  },
  {
   "cell_type": "code",
   "execution_count": 33,
   "id": "413642e2",
   "metadata": {},
   "outputs": [
    {
     "name": "stdout",
     "output_type": "stream",
     "text": [
      "tensor([[ 1.,  2.,  3., 10., 11., 12.],\n",
      "        [ 4.,  5.,  6., 13., 14., 15.],\n",
      "        [ 7.,  8.,  9., 16., 17., 28.]])\n",
      "torch.Size([3, 6])\n"
     ]
    }
   ],
   "source": [
    "z = torch.cat([x,y], dim = -1)\n",
    "print(z)\n",
    "print(z.size())"
   ]
  },
  {
   "cell_type": "markdown",
   "id": "63b2f380",
   "metadata": {},
   "source": [
    "## Stack : Stacking of multiple tensors in the list."
   ]
  },
  {
   "cell_type": "code",
   "execution_count": 35,
   "id": "917341b5",
   "metadata": {},
   "outputs": [
    {
     "name": "stdout",
     "output_type": "stream",
     "text": [
      "tensor([[[ 1.,  2.,  3.],\n",
      "         [ 4.,  5.,  6.],\n",
      "         [ 7.,  8.,  9.]],\n",
      "\n",
      "        [[10., 11., 12.],\n",
      "         [13., 14., 15.],\n",
      "         [16., 17., 28.]]])\n",
      "torch.Size([2, 3, 3])\n"
     ]
    }
   ],
   "source": [
    "#차원이 생성되는 의미\n",
    "z = torch.stack([x,y])\n",
    "print(z)\n",
    "print(z.size())"
   ]
  },
  {
   "cell_type": "code",
   "execution_count": 36,
   "id": "ad4bb966",
   "metadata": {},
   "outputs": [
    {
     "name": "stdout",
     "output_type": "stream",
     "text": [
      "tensor([[[ 1., 10.],\n",
      "         [ 2., 11.],\n",
      "         [ 3., 12.]],\n",
      "\n",
      "        [[ 4., 13.],\n",
      "         [ 5., 14.],\n",
      "         [ 6., 15.]],\n",
      "\n",
      "        [[ 7., 16.],\n",
      "         [ 8., 17.],\n",
      "         [ 9., 28.]]])\n",
      "torch.Size([3, 3, 2])\n"
     ]
    }
   ],
   "source": [
    "z = torch.stack([x,y],dim = -1)\n",
    "print(z)\n",
    "print(z.size())"
   ]
  },
  {
   "cell_type": "markdown",
   "id": "d15d5880",
   "metadata": {},
   "source": [
    "## Useful Trick: Merge results from iterations  \n",
    "    :차원을 합칠때 잘라서 넣어야할 경우에 유용함"
   ]
  },
  {
   "cell_type": "code",
   "execution_count": 37,
   "id": "79903b6e",
   "metadata": {},
   "outputs": [
    {
     "data": {
      "text/plain": [
       "torch.Size([5, 2, 2])"
      ]
     },
     "execution_count": 37,
     "metadata": {},
     "output_type": "execute_result"
    }
   ],
   "source": [
    "result = []\n",
    "for i in range(5):\n",
    "    x = torch.FloatTensor(2,2)\n",
    "    result += [x]\n",
    "    \n",
    "result = torch.stack(result)\n",
    "result.size()"
   ]
  },
  {
   "cell_type": "code",
   "execution_count": null,
   "id": "5ded47af",
   "metadata": {},
   "outputs": [],
   "source": []
  }
 ],
 "metadata": {
  "kernelspec": {
   "display_name": "Python 3",
   "language": "python",
   "name": "python3"
  },
  "language_info": {
   "codemirror_mode": {
    "name": "ipython",
    "version": 3
   },
   "file_extension": ".py",
   "mimetype": "text/x-python",
   "name": "python",
   "nbconvert_exporter": "python",
   "pygments_lexer": "ipython3",
   "version": "3.8.8"
  }
 },
 "nbformat": 4,
 "nbformat_minor": 5
}
