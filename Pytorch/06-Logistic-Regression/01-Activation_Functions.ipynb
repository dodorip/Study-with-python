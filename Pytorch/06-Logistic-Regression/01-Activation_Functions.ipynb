{
 "cells": [
  {
   "cell_type": "markdown",
   "metadata": {},
   "source": [
    "# Activation Functions  \n",
    "    - Sigmoid. \n",
    "    - TanH"
   ]
  },
  {
   "cell_type": "code",
   "execution_count": 2,
   "metadata": {},
   "outputs": [],
   "source": [
    "import torch\n",
    "import torch.nn as nn\n",
    "\n",
    "from matplotlib import pyplot as plt"
   ]
  },
  {
   "cell_type": "code",
   "execution_count": 3,
   "metadata": {},
   "outputs": [
    {
     "data": {
      "text/plain": [
       "tensor([-26.9274, -17.0019, -16.4800, -12.8363, -12.8197, -12.5863, -11.9584,\n",
       "        -11.7084, -11.0974, -10.4233,  -8.9865,  -8.7643,  -8.6577,  -8.5261,\n",
       "         -8.1499,  -7.8371,  -7.5739,  -7.1727,  -6.6756,  -6.1137,  -6.0889,\n",
       "         -5.9266,  -5.8208,  -5.5650,  -5.3838,  -5.3255,  -5.0616,  -4.8978,\n",
       "         -4.4095,  -4.3570,  -4.3487,  -4.0193,  -3.8019,  -3.4185,  -3.0120,\n",
       "         -2.9503,  -2.5983,  -2.1641,  -2.0172,  -1.1380,  -1.0794,  -0.5000,\n",
       "         -0.2853,   0.0530,   0.0961,   0.4905,   0.5570,   0.7881,   0.8231,\n",
       "          1.9330,   1.9404,   1.9427,   2.2334,   2.3603,   2.3938,   2.5292,\n",
       "          2.5326,   2.6881,   2.9629,   3.1633,   3.3428,   3.7133,   4.4799,\n",
       "          4.5328,   4.5741,   4.6513,   4.6789,   4.8518,   4.8743,   4.9764,\n",
       "          5.5614,   5.6112,   6.0672,   6.1018,   6.2104,   6.3617,   7.4413,\n",
       "          7.6910,   8.1721,   8.4926,   9.4171,   9.5723,  10.5143,  10.9213,\n",
       "         10.9569,  10.9995,  11.2003,  11.6036,  11.8047,  11.9377,  12.0089,\n",
       "         12.3393,  12.8484,  16.2760,  16.5776,  16.9997,  17.6849,  21.5615,\n",
       "         22.9361,  28.0425])"
      ]
     },
     "execution_count": 3,
     "metadata": {},
     "output_type": "execute_result"
    }
   ],
   "source": [
    "x = torch.sort(torch.randn(100) * 10)[0]\n",
    "\n",
    "x"
   ]
  },
  {
   "cell_type": "markdown",
   "metadata": {},
   "source": [
    "## Sigmoid\n",
    "\n",
    "$$\n",
    "\\sigma(x)=\\frac{1}{1+e^{-x}}\n",
    "$$"
   ]
  },
  {
   "cell_type": "code",
   "execution_count": 4,
   "metadata": {},
   "outputs": [
    {
     "name": "stdout",
     "output_type": "stream",
     "text": [
      "tensor([2.0211e-12, 4.1320e-08, 6.9638e-08, 2.6624e-06, 2.7070e-06, 3.4186e-06,\n",
      "        6.4052e-06, 8.2242e-06, 1.5151e-05, 2.9730e-05, 1.2508e-04, 1.5619e-04,\n",
      "        1.7376e-04, 1.9819e-04, 2.8869e-04, 3.9467e-04, 5.1343e-04, 7.6667e-04,\n",
      "        1.2597e-03, 2.2074e-03, 2.2628e-03, 2.6605e-03, 2.9566e-03, 3.8150e-03,\n",
      "        4.5694e-03, 4.8424e-03, 6.2954e-03, 7.4077e-03, 1.2015e-02, 1.2654e-02,\n",
      "        1.2759e-02, 1.7648e-02, 2.1841e-02, 3.1724e-02, 4.6887e-02, 4.9724e-02,\n",
      "        6.9248e-02, 1.0302e-01, 1.1741e-01, 2.4269e-01, 2.5361e-01, 3.7755e-01,\n",
      "        4.2915e-01, 5.1324e-01, 5.2402e-01, 6.2021e-01, 6.3576e-01, 6.8743e-01,\n",
      "        6.9490e-01, 8.7358e-01, 8.7439e-01, 8.7465e-01, 9.0321e-01, 9.1375e-01,\n",
      "        9.1636e-01, 9.2616e-01, 9.2640e-01, 9.3632e-01, 9.5087e-01, 9.5943e-01,\n",
      "        9.6587e-01, 9.7618e-01, 9.8879e-01, 9.8936e-01, 9.8979e-01, 9.9054e-01,\n",
      "        9.9080e-01, 9.9225e-01, 9.9242e-01, 9.9315e-01, 9.9617e-01, 9.9636e-01,\n",
      "        9.9769e-01, 9.9777e-01, 9.9800e-01, 9.9828e-01, 9.9941e-01, 9.9954e-01,\n",
      "        9.9972e-01, 9.9980e-01, 9.9992e-01, 9.9993e-01, 9.9997e-01, 9.9998e-01,\n",
      "        9.9998e-01, 9.9998e-01, 9.9999e-01, 9.9999e-01, 9.9999e-01, 9.9999e-01,\n",
      "        9.9999e-01, 1.0000e+00, 1.0000e+00, 1.0000e+00, 1.0000e+00, 1.0000e+00,\n",
      "        1.0000e+00, 1.0000e+00, 1.0000e+00, 1.0000e+00])\n"
     ]
    }
   ],
   "source": [
    "act = nn.Sigmoid()\n",
    "print(act(x))"
   ]
  },
  {
   "cell_type": "code",
   "execution_count": 5,
   "metadata": {
    "scrolled": true
   },
   "outputs": [
    {
     "name": "stdout",
     "output_type": "stream",
     "text": [
      "tensor([2.0211e-12, 4.1320e-08, 6.9638e-08, 2.6624e-06, 2.7070e-06, 3.4186e-06,\n",
      "        6.4052e-06, 8.2242e-06, 1.5151e-05, 2.9730e-05, 1.2508e-04, 1.5619e-04,\n",
      "        1.7376e-04, 1.9819e-04, 2.8869e-04, 3.9467e-04, 5.1343e-04, 7.6667e-04,\n",
      "        1.2597e-03, 2.2074e-03, 2.2628e-03, 2.6605e-03, 2.9566e-03, 3.8150e-03,\n",
      "        4.5694e-03, 4.8424e-03, 6.2954e-03, 7.4077e-03, 1.2015e-02, 1.2654e-02,\n",
      "        1.2759e-02, 1.7648e-02, 2.1841e-02, 3.1724e-02, 4.6887e-02, 4.9724e-02,\n",
      "        6.9248e-02, 1.0302e-01, 1.1741e-01, 2.4269e-01, 2.5361e-01, 3.7755e-01,\n",
      "        4.2915e-01, 5.1324e-01, 5.2402e-01, 6.2021e-01, 6.3576e-01, 6.8743e-01,\n",
      "        6.9490e-01, 8.7358e-01, 8.7439e-01, 8.7465e-01, 9.0321e-01, 9.1375e-01,\n",
      "        9.1636e-01, 9.2616e-01, 9.2640e-01, 9.3632e-01, 9.5087e-01, 9.5943e-01,\n",
      "        9.6587e-01, 9.7618e-01, 9.8879e-01, 9.8936e-01, 9.8979e-01, 9.9054e-01,\n",
      "        9.9080e-01, 9.9225e-01, 9.9242e-01, 9.9315e-01, 9.9617e-01, 9.9636e-01,\n",
      "        9.9769e-01, 9.9777e-01, 9.9800e-01, 9.9828e-01, 9.9941e-01, 9.9954e-01,\n",
      "        9.9972e-01, 9.9980e-01, 9.9992e-01, 9.9993e-01, 9.9997e-01, 9.9998e-01,\n",
      "        9.9998e-01, 9.9998e-01, 9.9999e-01, 9.9999e-01, 9.9999e-01, 9.9999e-01,\n",
      "        9.9999e-01, 1.0000e+00, 1.0000e+00, 1.0000e+00, 1.0000e+00, 1.0000e+00,\n",
      "        1.0000e+00, 1.0000e+00, 1.0000e+00, 1.0000e+00])\n"
     ]
    }
   ],
   "source": [
    "print(torch.sigmoid(x))"
   ]
  },
  {
   "cell_type": "code",
   "execution_count": 6,
   "metadata": {},
   "outputs": [
    {
     "data": {
      "image/png": "[encoded data removed]",
      "text/plain": [
       "<Figure size 432x288 with 1 Axes>"
      ]
     },
     "metadata": {
      "needs_background": "light"
     },
     "output_type": "display_data"
    }
   ],
   "source": [
    "plt.plot(x.numpy(), torch.sigmoid(x).numpy())\n",
    "plt.show()\n",
    "#0~1의 값"
   ]
  },
  {
   "cell_type": "markdown",
   "metadata": {},
   "source": [
    "## Hypoerbolic Tangent (TanH)\n",
    "\n",
    "$$\n",
    "\\text{tanh}(x)=\\frac{e^x-e^{-x}}{e^x+e^{-x}}\n",
    "$$"
   ]
  },
  {
   "cell_type": "code",
   "execution_count": 7,
   "metadata": {},
   "outputs": [
    {
     "name": "stdout",
     "output_type": "stream",
     "text": [
      "tensor([-1.0000, -1.0000, -1.0000, -1.0000, -1.0000, -1.0000, -1.0000, -1.0000,\n",
      "        -1.0000, -1.0000, -1.0000, -1.0000, -1.0000, -1.0000, -1.0000, -1.0000,\n",
      "        -1.0000, -1.0000, -1.0000, -1.0000, -1.0000, -1.0000, -1.0000, -1.0000,\n",
      "        -1.0000, -1.0000, -0.9999, -0.9999, -0.9997, -0.9997, -0.9997, -0.9994,\n",
      "        -0.9990, -0.9979, -0.9952, -0.9945, -0.9890, -0.9740, -0.9652, -0.8137,\n",
      "        -0.7930, -0.4621, -0.2778,  0.0529,  0.0958,  0.4546,  0.5058,  0.6573,\n",
      "         0.6768,  0.9590,  0.9596,  0.9597,  0.9773,  0.9823,  0.9835,  0.9874,\n",
      "         0.9875,  0.9908,  0.9947,  0.9964,  0.9975,  0.9988,  0.9997,  0.9998,\n",
      "         0.9998,  0.9998,  0.9998,  0.9999,  0.9999,  0.9999,  1.0000,  1.0000,\n",
      "         1.0000,  1.0000,  1.0000,  1.0000,  1.0000,  1.0000,  1.0000,  1.0000,\n",
      "         1.0000,  1.0000,  1.0000,  1.0000,  1.0000,  1.0000,  1.0000,  1.0000,\n",
      "         1.0000,  1.0000,  1.0000,  1.0000,  1.0000,  1.0000,  1.0000,  1.0000,\n",
      "         1.0000,  1.0000,  1.0000,  1.0000])\n"
     ]
    }
   ],
   "source": [
    "act = nn.Tanh()\n",
    "print(act(x))"
   ]
  },
  {
   "cell_type": "code",
   "execution_count": 8,
   "metadata": {},
   "outputs": [
    {
     "name": "stdout",
     "output_type": "stream",
     "text": [
      "tensor([-1.0000, -1.0000, -1.0000, -1.0000, -1.0000, -1.0000, -1.0000, -1.0000,\n",
      "        -1.0000, -1.0000, -1.0000, -1.0000, -1.0000, -1.0000, -1.0000, -1.0000,\n",
      "        -1.0000, -1.0000, -1.0000, -1.0000, -1.0000, -1.0000, -1.0000, -1.0000,\n",
      "        -1.0000, -1.0000, -0.9999, -0.9999, -0.9997, -0.9997, -0.9997, -0.9994,\n",
      "        -0.9990, -0.9979, -0.9952, -0.9945, -0.9890, -0.9740, -0.9652, -0.8137,\n",
      "        -0.7930, -0.4621, -0.2778,  0.0529,  0.0958,  0.4546,  0.5058,  0.6573,\n",
      "         0.6768,  0.9590,  0.9596,  0.9597,  0.9773,  0.9823,  0.9835,  0.9874,\n",
      "         0.9875,  0.9908,  0.9947,  0.9964,  0.9975,  0.9988,  0.9997,  0.9998,\n",
      "         0.9998,  0.9998,  0.9998,  0.9999,  0.9999,  0.9999,  1.0000,  1.0000,\n",
      "         1.0000,  1.0000,  1.0000,  1.0000,  1.0000,  1.0000,  1.0000,  1.0000,\n",
      "         1.0000,  1.0000,  1.0000,  1.0000,  1.0000,  1.0000,  1.0000,  1.0000,\n",
      "         1.0000,  1.0000,  1.0000,  1.0000,  1.0000,  1.0000,  1.0000,  1.0000,\n",
      "         1.0000,  1.0000,  1.0000,  1.0000])\n"
     ]
    }
   ],
   "source": [
    "print(torch.tanh(x))"
   ]
  },
  {
   "cell_type": "code",
   "execution_count": 9,
   "metadata": {},
   "outputs": [
    {
     "data": {
      "image/png": "[encoded data removed]",
      "text/plain": [
       "<Figure size 432x288 with 1 Axes>"
      ]
     },
     "metadata": {
      "needs_background": "light"
     },
     "output_type": "display_data"
    }
   ],
   "source": [
    "plt.plot(x.numpy(), torch.tanh(x).numpy())\n",
    "plt.show()\n",
    "#-1~1의 값"
   ]
  },
  {
   "cell_type": "code",
   "execution_count": null,
   "metadata": {},
   "outputs": [],
   "source": []
  }
 ],
 "metadata": {
  "kernelspec": {
   "display_name": "Python 3",
   "language": "python",
   "name": "python3"
  },
  "language_info": {
   "codemirror_mode": {
    "name": "ipython",
    "version": 3
   },
   "file_extension": ".py",
   "mimetype": "text/x-python",
   "name": "python",
   "nbconvert_exporter": "python",
   "pygments_lexer": "ipython3",
   "version": "3.8.8"
  }
 },
 "nbformat": 4,
 "nbformat_minor": 2
}
